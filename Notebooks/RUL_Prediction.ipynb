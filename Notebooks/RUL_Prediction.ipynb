{
 "cells": [
  {
   "cell_type": "markdown",
   "metadata": {},
   "source": [
    "# RUL Prediction / Estimation"
   ]
  },
  {
   "cell_type": "code",
   "execution_count": 1,
   "metadata": {},
   "outputs": [],
   "source": [
    "import os\n",
    "import pandas as pd\n",
    "import numpy as np\n",
    "import matplotlib.pyplot as plt\n",
    "import seaborn as sns\n",
    "import scipy.stats\n",
    "%matplotlib inline"
   ]
  },
  {
   "cell_type": "code",
   "execution_count": 2,
   "metadata": {},
   "outputs": [],
   "source": [
    "# Create the blank dataframe\n",
    "combined_data = pd.DataFrame()\n",
    "\n",
    "# Set the file directory\n",
    "data_dir = 'D:/Springboard/Capstone_Works/Project/Proj_DataSet/2nd_test'"
   ]
  },
  {
   "cell_type": "code",
   "execution_count": 3,
   "metadata": {},
   "outputs": [],
   "source": [
    "# Iterate through all the files\n",
    "for file_name in os.listdir(data_dir):\n",
    "    df = pd.read_csv(os.path.join(data_dir, file_name), sep='\\t')\n",
    "    # To convert into numpy values\n",
    "    df_b1 = df.iloc[:,0].values\n",
    "\n",
    "    # To calculate the mean\n",
    "    df_b1_mean = np.mean(np.absolute(df_b1))\n",
    "    \n",
    "    # To calculate RMS\n",
    "    df_b1_rms = np.sqrt((np.sum(df_b1**2))/len(df_b1))\n",
    "    \n",
    "    # To calculate kurtosis\n",
    "    df_b1_kurt = scipy.stats.kurtosis(df_b1,fisher=False)\n",
    "    \n",
    "    # Concate into Pandas DataFrame\n",
    "    df_1 = pd.concat([pd.Series(df_b1_mean),pd.Series(df_b1_rms),pd.Series(df_b1_kurt)],axis=1)\n",
    "    df_1.index = [file_name]\n",
    "    \n",
    "    # Append individual dataframes to create a single combined dataset\n",
    "    combined_data = combined_data.append(df_1)\n",
    "    \n",
    "# Insert Column headers    \n",
    "combined_data.columns = ['Bearing1_Mean','Bearing1_RMS','Bearing1_Kurt']"
   ]
  },
  {
   "cell_type": "code",
   "execution_count": 4,
   "metadata": {},
   "outputs": [
    {
     "data": {
      "text/html": [
       "<div>\n",
       "<style scoped>\n",
       "    .dataframe tbody tr th:only-of-type {\n",
       "        vertical-align: middle;\n",
       "    }\n",
       "\n",
       "    .dataframe tbody tr th {\n",
       "        vertical-align: top;\n",
       "    }\n",
       "\n",
       "    .dataframe thead th {\n",
       "        text-align: right;\n",
       "    }\n",
       "</style>\n",
       "<table border=\"1\" class=\"dataframe\">\n",
       "  <thead>\n",
       "    <tr style=\"text-align: right;\">\n",
       "      <th></th>\n",
       "      <th>Bearing1_Mean</th>\n",
       "      <th>Bearing1_RMS</th>\n",
       "      <th>Bearing1_Kurt</th>\n",
       "    </tr>\n",
       "  </thead>\n",
       "  <tbody>\n",
       "    <tr>\n",
       "      <th>2004.02.12.10.32.39</th>\n",
       "      <td>0.058333</td>\n",
       "      <td>0.074180</td>\n",
       "      <td>3.628672</td>\n",
       "    </tr>\n",
       "    <tr>\n",
       "      <th>2004.02.12.10.42.39</th>\n",
       "      <td>0.058995</td>\n",
       "      <td>0.075382</td>\n",
       "      <td>3.648479</td>\n",
       "    </tr>\n",
       "    <tr>\n",
       "      <th>2004.02.12.10.52.39</th>\n",
       "      <td>0.060236</td>\n",
       "      <td>0.076228</td>\n",
       "      <td>3.513839</td>\n",
       "    </tr>\n",
       "    <tr>\n",
       "      <th>2004.02.12.11.02.39</th>\n",
       "      <td>0.061455</td>\n",
       "      <td>0.078726</td>\n",
       "      <td>4.157776</td>\n",
       "    </tr>\n",
       "    <tr>\n",
       "      <th>2004.02.12.11.12.39</th>\n",
       "      <td>0.061361</td>\n",
       "      <td>0.078475</td>\n",
       "      <td>3.603207</td>\n",
       "    </tr>\n",
       "    <tr>\n",
       "      <th>...</th>\n",
       "      <td>...</td>\n",
       "      <td>...</td>\n",
       "      <td>...</td>\n",
       "    </tr>\n",
       "    <tr>\n",
       "      <th>2004.02.19.05.42.39</th>\n",
       "      <td>0.453335</td>\n",
       "      <td>0.725019</td>\n",
       "      <td>15.576977</td>\n",
       "    </tr>\n",
       "    <tr>\n",
       "      <th>2004.02.19.05.52.39</th>\n",
       "      <td>0.337583</td>\n",
       "      <td>0.462021</td>\n",
       "      <td>6.759714</td>\n",
       "    </tr>\n",
       "    <tr>\n",
       "      <th>2004.02.19.06.02.39</th>\n",
       "      <td>0.351111</td>\n",
       "      <td>0.483847</td>\n",
       "      <td>7.891370</td>\n",
       "    </tr>\n",
       "    <tr>\n",
       "      <th>2004.02.19.06.12.39</th>\n",
       "      <td>0.001857</td>\n",
       "      <td>0.002103</td>\n",
       "      <td>6.637219</td>\n",
       "    </tr>\n",
       "    <tr>\n",
       "      <th>2004.02.19.06.22.39</th>\n",
       "      <td>0.001168</td>\n",
       "      <td>0.001533</td>\n",
       "      <td>1.390177</td>\n",
       "    </tr>\n",
       "  </tbody>\n",
       "</table>\n",
       "<p>984 rows × 3 columns</p>\n",
       "</div>"
      ],
      "text/plain": [
       "                     Bearing1_Mean  Bearing1_RMS  Bearing1_Kurt\n",
       "2004.02.12.10.32.39       0.058333      0.074180       3.628672\n",
       "2004.02.12.10.42.39       0.058995      0.075382       3.648479\n",
       "2004.02.12.10.52.39       0.060236      0.076228       3.513839\n",
       "2004.02.12.11.02.39       0.061455      0.078726       4.157776\n",
       "2004.02.12.11.12.39       0.061361      0.078475       3.603207\n",
       "...                            ...           ...            ...\n",
       "2004.02.19.05.42.39       0.453335      0.725019      15.576977\n",
       "2004.02.19.05.52.39       0.337583      0.462021       6.759714\n",
       "2004.02.19.06.02.39       0.351111      0.483847       7.891370\n",
       "2004.02.19.06.12.39       0.001857      0.002103       6.637219\n",
       "2004.02.19.06.22.39       0.001168      0.001533       1.390177\n",
       "\n",
       "[984 rows x 3 columns]"
      ]
     },
     "execution_count": 4,
     "metadata": {},
     "output_type": "execute_result"
    }
   ],
   "source": [
    "combined_data"
   ]
  },
  {
   "cell_type": "code",
   "execution_count": 5,
   "metadata": {},
   "outputs": [],
   "source": [
    "# Set the data_time index and ensuring the proper format\n",
    "combined_data.index = pd.to_datetime(combined_data.index, format='%Y.%m.%d.%H.%M.%S')\n",
    "\n",
    "# Sort the index in chronological order\n",
    "combined_data = combined_data.sort_index()\n",
    "\n",
    "# Drop last 2 rows\n",
    "combined_data = combined_data[:-2]"
   ]
  },
  {
   "cell_type": "code",
   "execution_count": 6,
   "metadata": {},
   "outputs": [],
   "source": [
    "new_comb_data = combined_data.copy()\n",
    "new_comb_data = new_comb_data.reset_index()\n",
    "new_comb_data.columns = ['date_time','Bearing1_Mean','Bearing1_RMS','Bearing1_Kurt']"
   ]
  },
  {
   "cell_type": "code",
   "execution_count": 7,
   "metadata": {},
   "outputs": [
    {
     "data": {
      "text/html": [
       "<div>\n",
       "<style scoped>\n",
       "    .dataframe tbody tr th:only-of-type {\n",
       "        vertical-align: middle;\n",
       "    }\n",
       "\n",
       "    .dataframe tbody tr th {\n",
       "        vertical-align: top;\n",
       "    }\n",
       "\n",
       "    .dataframe thead th {\n",
       "        text-align: right;\n",
       "    }\n",
       "</style>\n",
       "<table border=\"1\" class=\"dataframe\">\n",
       "  <thead>\n",
       "    <tr style=\"text-align: right;\">\n",
       "      <th></th>\n",
       "      <th>date_time</th>\n",
       "      <th>Bearing1_Mean</th>\n",
       "      <th>Bearing1_RMS</th>\n",
       "      <th>Bearing1_Kurt</th>\n",
       "    </tr>\n",
       "  </thead>\n",
       "  <tbody>\n",
       "    <tr>\n",
       "      <th>0</th>\n",
       "      <td>2004-02-12 10:32:39</td>\n",
       "      <td>0.058333</td>\n",
       "      <td>0.074180</td>\n",
       "      <td>3.628672</td>\n",
       "    </tr>\n",
       "    <tr>\n",
       "      <th>1</th>\n",
       "      <td>2004-02-12 10:42:39</td>\n",
       "      <td>0.058995</td>\n",
       "      <td>0.075382</td>\n",
       "      <td>3.648479</td>\n",
       "    </tr>\n",
       "    <tr>\n",
       "      <th>2</th>\n",
       "      <td>2004-02-12 10:52:39</td>\n",
       "      <td>0.060236</td>\n",
       "      <td>0.076228</td>\n",
       "      <td>3.513839</td>\n",
       "    </tr>\n",
       "    <tr>\n",
       "      <th>3</th>\n",
       "      <td>2004-02-12 11:02:39</td>\n",
       "      <td>0.061455</td>\n",
       "      <td>0.078726</td>\n",
       "      <td>4.157776</td>\n",
       "    </tr>\n",
       "    <tr>\n",
       "      <th>4</th>\n",
       "      <td>2004-02-12 11:12:39</td>\n",
       "      <td>0.061361</td>\n",
       "      <td>0.078475</td>\n",
       "      <td>3.603207</td>\n",
       "    </tr>\n",
       "    <tr>\n",
       "      <th>...</th>\n",
       "      <td>...</td>\n",
       "      <td>...</td>\n",
       "      <td>...</td>\n",
       "      <td>...</td>\n",
       "    </tr>\n",
       "    <tr>\n",
       "      <th>977</th>\n",
       "      <td>2004-02-19 05:22:39</td>\n",
       "      <td>0.338265</td>\n",
       "      <td>0.445929</td>\n",
       "      <td>4.624054</td>\n",
       "    </tr>\n",
       "    <tr>\n",
       "      <th>978</th>\n",
       "      <td>2004-02-19 05:32:39</td>\n",
       "      <td>0.301344</td>\n",
       "      <td>0.386944</td>\n",
       "      <td>3.469297</td>\n",
       "    </tr>\n",
       "    <tr>\n",
       "      <th>979</th>\n",
       "      <td>2004-02-19 05:42:39</td>\n",
       "      <td>0.453335</td>\n",
       "      <td>0.725019</td>\n",
       "      <td>15.576977</td>\n",
       "    </tr>\n",
       "    <tr>\n",
       "      <th>980</th>\n",
       "      <td>2004-02-19 05:52:39</td>\n",
       "      <td>0.337583</td>\n",
       "      <td>0.462021</td>\n",
       "      <td>6.759714</td>\n",
       "    </tr>\n",
       "    <tr>\n",
       "      <th>981</th>\n",
       "      <td>2004-02-19 06:02:39</td>\n",
       "      <td>0.351111</td>\n",
       "      <td>0.483847</td>\n",
       "      <td>7.891370</td>\n",
       "    </tr>\n",
       "  </tbody>\n",
       "</table>\n",
       "<p>982 rows × 4 columns</p>\n",
       "</div>"
      ],
      "text/plain": [
       "              date_time  Bearing1_Mean  Bearing1_RMS  Bearing1_Kurt\n",
       "0   2004-02-12 10:32:39       0.058333      0.074180       3.628672\n",
       "1   2004-02-12 10:42:39       0.058995      0.075382       3.648479\n",
       "2   2004-02-12 10:52:39       0.060236      0.076228       3.513839\n",
       "3   2004-02-12 11:02:39       0.061455      0.078726       4.157776\n",
       "4   2004-02-12 11:12:39       0.061361      0.078475       3.603207\n",
       "..                  ...            ...           ...            ...\n",
       "977 2004-02-19 05:22:39       0.338265      0.445929       4.624054\n",
       "978 2004-02-19 05:32:39       0.301344      0.386944       3.469297\n",
       "979 2004-02-19 05:42:39       0.453335      0.725019      15.576977\n",
       "980 2004-02-19 05:52:39       0.337583      0.462021       6.759714\n",
       "981 2004-02-19 06:02:39       0.351111      0.483847       7.891370\n",
       "\n",
       "[982 rows x 4 columns]"
      ]
     },
     "execution_count": 7,
     "metadata": {},
     "output_type": "execute_result"
    }
   ],
   "source": [
    "new_comb_data"
   ]
  },
  {
   "cell_type": "markdown",
   "metadata": {},
   "source": [
    "## Calculate the Remaining Useful Life (RUL) interms of Fraction Failing\n",
    "### Ex: If Fraction Failing = 10%, then RUL is 90%"
   ]
  },
  {
   "cell_type": "code",
   "execution_count": 8,
   "metadata": {},
   "outputs": [],
   "source": [
    "samples = new_comb_data.Bearing1_RMS[:450]\n",
    "sample_mean = samples.mean() \n",
    "samples_full = new_comb_data.Bearing1_RMS.values\n",
    "# ffr - feature used to calculate the Fraction Failing\n",
    "ffr = np.abs(samples_full - sample_mean)"
   ]
  },
  {
   "cell_type": "markdown",
   "metadata": {},
   "source": [
    "## Fit Weibull Distribution in ffr to get Shape Parameter (alpha) & Scale Parameter (beta)"
   ]
  },
  {
   "cell_type": "code",
   "execution_count": 9,
   "metadata": {},
   "outputs": [
    {
     "name": "stdout",
     "output_type": "stream",
     "text": [
      "Results from Fit_Weibull_2P (95% CI):\n",
      "           Point Estimate  Standard Error  Lower CI  Upper CI\n",
      "Parameter                                                    \n",
      "Alpha            0.013472        0.000957  0.011721  0.015484\n",
      "Beta             0.475861        0.011763  0.453356  0.499483\n",
      "Log-Likelihood: 3111.731798423612 \n",
      "\n"
     ]
    },
    {
     "data": {
      "image/png": "[encoded data removed]",
      "text/plain": [
       "<Figure size 648x648 with 1 Axes>"
      ]
     },
     "metadata": {
      "needs_background": "light"
     },
     "output_type": "display_data"
    }
   ],
   "source": [
    "from reliability.Fitters import Fit_Weibull_2P\n",
    "wb = Fit_Weibull_2P(failures=ffr)"
   ]
  },
  {
   "cell_type": "code",
   "execution_count": 10,
   "metadata": {},
   "outputs": [
    {
     "data": {
      "text/plain": [
       "(0.0, 0.6)"
      ]
     },
     "execution_count": 10,
     "metadata": {},
     "output_type": "execute_result"
    },
    {
     "data": {
      "image/png": "[encoded data removed]",
      "text/plain": [
       "<Figure size 1440x720 with 1 Axes>"
      ]
     },
     "metadata": {
      "needs_background": "light"
     },
     "output_type": "display_data"
    }
   ],
   "source": [
    "from reliability.Distributions import Weibull_Distribution\n",
    "import matplotlib.pyplot as plt\n",
    "plt.figure(figsize=(20,10))\n",
    "dist = Weibull_Distribution(alpha=0.0135, beta=0.475861)  # this created the distribution object\n",
    "dist.CDF()\n",
    "plt.grid(b=True, which='both',color='r')\n",
    "plt.xlim(0.0,0.6)"
   ]
  },
  {
   "cell_type": "code",
   "execution_count": 11,
   "metadata": {},
   "outputs": [],
   "source": [
    "rul_pred = new_comb_data[['date_time','Bearing1_RMS','Bearing1_Kurt']]\n",
    "# Add ffr feature to dataframe\n",
    "rul_pred['RMS_Feature'] = ffr"
   ]
  },
  {
   "cell_type": "code",
   "execution_count": 12,
   "metadata": {},
   "outputs": [
    {
     "data": {
      "text/html": [
       "<div>\n",
       "<style scoped>\n",
       "    .dataframe tbody tr th:only-of-type {\n",
       "        vertical-align: middle;\n",
       "    }\n",
       "\n",
       "    .dataframe tbody tr th {\n",
       "        vertical-align: top;\n",
       "    }\n",
       "\n",
       "    .dataframe thead th {\n",
       "        text-align: right;\n",
       "    }\n",
       "</style>\n",
       "<table border=\"1\" class=\"dataframe\">\n",
       "  <thead>\n",
       "    <tr style=\"text-align: right;\">\n",
       "      <th></th>\n",
       "      <th>date_time</th>\n",
       "      <th>Bearing1_RMS</th>\n",
       "      <th>Bearing1_Kurt</th>\n",
       "      <th>RMS_Feature</th>\n",
       "    </tr>\n",
       "  </thead>\n",
       "  <tbody>\n",
       "    <tr>\n",
       "      <th>0</th>\n",
       "      <td>2004-02-12 10:32:39</td>\n",
       "      <td>0.074180</td>\n",
       "      <td>3.628672</td>\n",
       "      <td>0.003013</td>\n",
       "    </tr>\n",
       "    <tr>\n",
       "      <th>1</th>\n",
       "      <td>2004-02-12 10:42:39</td>\n",
       "      <td>0.075382</td>\n",
       "      <td>3.648479</td>\n",
       "      <td>0.001812</td>\n",
       "    </tr>\n",
       "    <tr>\n",
       "      <th>2</th>\n",
       "      <td>2004-02-12 10:52:39</td>\n",
       "      <td>0.076228</td>\n",
       "      <td>3.513839</td>\n",
       "      <td>0.000966</td>\n",
       "    </tr>\n",
       "    <tr>\n",
       "      <th>3</th>\n",
       "      <td>2004-02-12 11:02:39</td>\n",
       "      <td>0.078726</td>\n",
       "      <td>4.157776</td>\n",
       "      <td>0.001532</td>\n",
       "    </tr>\n",
       "    <tr>\n",
       "      <th>4</th>\n",
       "      <td>2004-02-12 11:12:39</td>\n",
       "      <td>0.078475</td>\n",
       "      <td>3.603207</td>\n",
       "      <td>0.001281</td>\n",
       "    </tr>\n",
       "    <tr>\n",
       "      <th>...</th>\n",
       "      <td>...</td>\n",
       "      <td>...</td>\n",
       "      <td>...</td>\n",
       "      <td>...</td>\n",
       "    </tr>\n",
       "    <tr>\n",
       "      <th>977</th>\n",
       "      <td>2004-02-19 05:22:39</td>\n",
       "      <td>0.445929</td>\n",
       "      <td>4.624054</td>\n",
       "      <td>0.368736</td>\n",
       "    </tr>\n",
       "    <tr>\n",
       "      <th>978</th>\n",
       "      <td>2004-02-19 05:32:39</td>\n",
       "      <td>0.386944</td>\n",
       "      <td>3.469297</td>\n",
       "      <td>0.309751</td>\n",
       "    </tr>\n",
       "    <tr>\n",
       "      <th>979</th>\n",
       "      <td>2004-02-19 05:42:39</td>\n",
       "      <td>0.725019</td>\n",
       "      <td>15.576977</td>\n",
       "      <td>0.647825</td>\n",
       "    </tr>\n",
       "    <tr>\n",
       "      <th>980</th>\n",
       "      <td>2004-02-19 05:52:39</td>\n",
       "      <td>0.462021</td>\n",
       "      <td>6.759714</td>\n",
       "      <td>0.384828</td>\n",
       "    </tr>\n",
       "    <tr>\n",
       "      <th>981</th>\n",
       "      <td>2004-02-19 06:02:39</td>\n",
       "      <td>0.483847</td>\n",
       "      <td>7.891370</td>\n",
       "      <td>0.406654</td>\n",
       "    </tr>\n",
       "  </tbody>\n",
       "</table>\n",
       "<p>982 rows × 4 columns</p>\n",
       "</div>"
      ],
      "text/plain": [
       "              date_time  Bearing1_RMS  Bearing1_Kurt  RMS_Feature\n",
       "0   2004-02-12 10:32:39      0.074180       3.628672     0.003013\n",
       "1   2004-02-12 10:42:39      0.075382       3.648479     0.001812\n",
       "2   2004-02-12 10:52:39      0.076228       3.513839     0.000966\n",
       "3   2004-02-12 11:02:39      0.078726       4.157776     0.001532\n",
       "4   2004-02-12 11:12:39      0.078475       3.603207     0.001281\n",
       "..                  ...           ...            ...          ...\n",
       "977 2004-02-19 05:22:39      0.445929       4.624054     0.368736\n",
       "978 2004-02-19 05:32:39      0.386944       3.469297     0.309751\n",
       "979 2004-02-19 05:42:39      0.725019      15.576977     0.647825\n",
       "980 2004-02-19 05:52:39      0.462021       6.759714     0.384828\n",
       "981 2004-02-19 06:02:39      0.483847       7.891370     0.406654\n",
       "\n",
       "[982 rows x 4 columns]"
      ]
     },
     "execution_count": 12,
     "metadata": {},
     "output_type": "execute_result"
    }
   ],
   "source": [
    "rul_pred"
   ]
  },
  {
   "cell_type": "markdown",
   "metadata": {},
   "source": [
    "## We are creating 5 output classes based on RMS_Feature fitted on Weibull Distribution\n",
    "Class | RMS_Feature (Range) | Fraction Failing | RUL\n",
    "------|---------------------|------------------|----\n",
    "1 | 0.0-0.001 | 0-20% | 80%\n",
    "2 | 0.001-0.0035 | 20-40% | 60%\n",
    "3 | 0.0035-0.011 | 40-60% | 40%\n",
    "4 | 0.011-0.037 | 60-80% | 20%\n",
    "5 | > 0.037 | 80-100% | < 20%"
   ]
  },
  {
   "cell_type": "code",
   "execution_count": 13,
   "metadata": {},
   "outputs": [],
   "source": [
    "# Create funtion to find the corresponding class from RMS_Feature\n",
    "def rul_class(x):\n",
    "    if x < 0.001:\n",
    "        return 1\n",
    "    elif ((x>0.001) & (x<0.0035)):\n",
    "        return 2\n",
    "    elif ((x>0.0035) & (x<0.011)):\n",
    "        return 3\n",
    "    elif ((x>0.011) & (x<0.037)):\n",
    "        return 4\n",
    "    else:\n",
    "        return 5\n",
    "\n",
    "rul_pred['Class'] = rul_pred.RMS_Feature.apply(rul_class)"
   ]
  },
  {
   "cell_type": "code",
   "execution_count": 14,
   "metadata": {},
   "outputs": [
    {
     "data": {
      "text/html": [
       "<div>\n",
       "<style scoped>\n",
       "    .dataframe tbody tr th:only-of-type {\n",
       "        vertical-align: middle;\n",
       "    }\n",
       "\n",
       "    .dataframe tbody tr th {\n",
       "        vertical-align: top;\n",
       "    }\n",
       "\n",
       "    .dataframe thead th {\n",
       "        text-align: right;\n",
       "    }\n",
       "</style>\n",
       "<table border=\"1\" class=\"dataframe\">\n",
       "  <thead>\n",
       "    <tr style=\"text-align: right;\">\n",
       "      <th></th>\n",
       "      <th>date_time</th>\n",
       "      <th>Bearing1_RMS</th>\n",
       "      <th>Bearing1_Kurt</th>\n",
       "      <th>RMS_Feature</th>\n",
       "      <th>Class</th>\n",
       "    </tr>\n",
       "  </thead>\n",
       "  <tbody>\n",
       "    <tr>\n",
       "      <th>0</th>\n",
       "      <td>2004-02-12 10:32:39</td>\n",
       "      <td>0.074180</td>\n",
       "      <td>3.628672</td>\n",
       "      <td>0.003013</td>\n",
       "      <td>2</td>\n",
       "    </tr>\n",
       "    <tr>\n",
       "      <th>1</th>\n",
       "      <td>2004-02-12 10:42:39</td>\n",
       "      <td>0.075382</td>\n",
       "      <td>3.648479</td>\n",
       "      <td>0.001812</td>\n",
       "      <td>2</td>\n",
       "    </tr>\n",
       "    <tr>\n",
       "      <th>2</th>\n",
       "      <td>2004-02-12 10:52:39</td>\n",
       "      <td>0.076228</td>\n",
       "      <td>3.513839</td>\n",
       "      <td>0.000966</td>\n",
       "      <td>1</td>\n",
       "    </tr>\n",
       "    <tr>\n",
       "      <th>3</th>\n",
       "      <td>2004-02-12 11:02:39</td>\n",
       "      <td>0.078726</td>\n",
       "      <td>4.157776</td>\n",
       "      <td>0.001532</td>\n",
       "      <td>2</td>\n",
       "    </tr>\n",
       "    <tr>\n",
       "      <th>4</th>\n",
       "      <td>2004-02-12 11:12:39</td>\n",
       "      <td>0.078475</td>\n",
       "      <td>3.603207</td>\n",
       "      <td>0.001281</td>\n",
       "      <td>2</td>\n",
       "    </tr>\n",
       "    <tr>\n",
       "      <th>...</th>\n",
       "      <td>...</td>\n",
       "      <td>...</td>\n",
       "      <td>...</td>\n",
       "      <td>...</td>\n",
       "      <td>...</td>\n",
       "    </tr>\n",
       "    <tr>\n",
       "      <th>977</th>\n",
       "      <td>2004-02-19 05:22:39</td>\n",
       "      <td>0.445929</td>\n",
       "      <td>4.624054</td>\n",
       "      <td>0.368736</td>\n",
       "      <td>5</td>\n",
       "    </tr>\n",
       "    <tr>\n",
       "      <th>978</th>\n",
       "      <td>2004-02-19 05:32:39</td>\n",
       "      <td>0.386944</td>\n",
       "      <td>3.469297</td>\n",
       "      <td>0.309751</td>\n",
       "      <td>5</td>\n",
       "    </tr>\n",
       "    <tr>\n",
       "      <th>979</th>\n",
       "      <td>2004-02-19 05:42:39</td>\n",
       "      <td>0.725019</td>\n",
       "      <td>15.576977</td>\n",
       "      <td>0.647825</td>\n",
       "      <td>5</td>\n",
       "    </tr>\n",
       "    <tr>\n",
       "      <th>980</th>\n",
       "      <td>2004-02-19 05:52:39</td>\n",
       "      <td>0.462021</td>\n",
       "      <td>6.759714</td>\n",
       "      <td>0.384828</td>\n",
       "      <td>5</td>\n",
       "    </tr>\n",
       "    <tr>\n",
       "      <th>981</th>\n",
       "      <td>2004-02-19 06:02:39</td>\n",
       "      <td>0.483847</td>\n",
       "      <td>7.891370</td>\n",
       "      <td>0.406654</td>\n",
       "      <td>5</td>\n",
       "    </tr>\n",
       "  </tbody>\n",
       "</table>\n",
       "<p>982 rows × 5 columns</p>\n",
       "</div>"
      ],
      "text/plain": [
       "              date_time  Bearing1_RMS  Bearing1_Kurt  RMS_Feature  Class\n",
       "0   2004-02-12 10:32:39      0.074180       3.628672     0.003013      2\n",
       "1   2004-02-12 10:42:39      0.075382       3.648479     0.001812      2\n",
       "2   2004-02-12 10:52:39      0.076228       3.513839     0.000966      1\n",
       "3   2004-02-12 11:02:39      0.078726       4.157776     0.001532      2\n",
       "4   2004-02-12 11:12:39      0.078475       3.603207     0.001281      2\n",
       "..                  ...           ...            ...          ...    ...\n",
       "977 2004-02-19 05:22:39      0.445929       4.624054     0.368736      5\n",
       "978 2004-02-19 05:32:39      0.386944       3.469297     0.309751      5\n",
       "979 2004-02-19 05:42:39      0.725019      15.576977     0.647825      5\n",
       "980 2004-02-19 05:52:39      0.462021       6.759714     0.384828      5\n",
       "981 2004-02-19 06:02:39      0.483847       7.891370     0.406654      5\n",
       "\n",
       "[982 rows x 5 columns]"
      ]
     },
     "execution_count": 14,
     "metadata": {},
     "output_type": "execute_result"
    }
   ],
   "source": [
    "rul_pred"
   ]
  },
  {
   "cell_type": "markdown",
   "metadata": {},
   "source": [
    "### To Create a Dataframe with Features (Bearing1_RMS, Bearing1_kurt) Current and Previous Value"
   ]
  },
  {
   "cell_type": "code",
   "execution_count": 15,
   "metadata": {},
   "outputs": [],
   "source": [
    "rul_pred_df = rul_pred.copy()\n",
    "rul_pred_df = rul_pred_df.drop(['RMS_Feature'],axis=1)\n",
    "rul_pred_df['Bearing1_RMS_Prev'] = rul_pred_df['Bearing1_RMS'].shift(1)\n",
    "rul_pred_df['Bearing1_Kurt_Prev'] = rul_pred_df['Bearing1_Kurt'].shift(1)\n",
    "rul_pred_df.dropna(inplace=True)"
   ]
  },
  {
   "cell_type": "code",
   "execution_count": 16,
   "metadata": {},
   "outputs": [
    {
     "data": {
      "text/html": [
       "<div>\n",
       "<style scoped>\n",
       "    .dataframe tbody tr th:only-of-type {\n",
       "        vertical-align: middle;\n",
       "    }\n",
       "\n",
       "    .dataframe tbody tr th {\n",
       "        vertical-align: top;\n",
       "    }\n",
       "\n",
       "    .dataframe thead th {\n",
       "        text-align: right;\n",
       "    }\n",
       "</style>\n",
       "<table border=\"1\" class=\"dataframe\">\n",
       "  <thead>\n",
       "    <tr style=\"text-align: right;\">\n",
       "      <th></th>\n",
       "      <th>date_time</th>\n",
       "      <th>Bearing1_RMS</th>\n",
       "      <th>Bearing1_Kurt</th>\n",
       "      <th>Class</th>\n",
       "      <th>Bearing1_RMS_Prev</th>\n",
       "      <th>Bearing1_Kurt_Prev</th>\n",
       "    </tr>\n",
       "  </thead>\n",
       "  <tbody>\n",
       "    <tr>\n",
       "      <th>1</th>\n",
       "      <td>2004-02-12 10:42:39</td>\n",
       "      <td>0.075382</td>\n",
       "      <td>3.648479</td>\n",
       "      <td>2</td>\n",
       "      <td>0.074180</td>\n",
       "      <td>3.628672</td>\n",
       "    </tr>\n",
       "    <tr>\n",
       "      <th>2</th>\n",
       "      <td>2004-02-12 10:52:39</td>\n",
       "      <td>0.076228</td>\n",
       "      <td>3.513839</td>\n",
       "      <td>1</td>\n",
       "      <td>0.075382</td>\n",
       "      <td>3.648479</td>\n",
       "    </tr>\n",
       "    <tr>\n",
       "      <th>3</th>\n",
       "      <td>2004-02-12 11:02:39</td>\n",
       "      <td>0.078726</td>\n",
       "      <td>4.157776</td>\n",
       "      <td>2</td>\n",
       "      <td>0.076228</td>\n",
       "      <td>3.513839</td>\n",
       "    </tr>\n",
       "    <tr>\n",
       "      <th>4</th>\n",
       "      <td>2004-02-12 11:12:39</td>\n",
       "      <td>0.078475</td>\n",
       "      <td>3.603207</td>\n",
       "      <td>2</td>\n",
       "      <td>0.078726</td>\n",
       "      <td>4.157776</td>\n",
       "    </tr>\n",
       "    <tr>\n",
       "      <th>5</th>\n",
       "      <td>2004-02-12 11:22:39</td>\n",
       "      <td>0.078311</td>\n",
       "      <td>3.456488</td>\n",
       "      <td>2</td>\n",
       "      <td>0.078475</td>\n",
       "      <td>3.603207</td>\n",
       "    </tr>\n",
       "    <tr>\n",
       "      <th>...</th>\n",
       "      <td>...</td>\n",
       "      <td>...</td>\n",
       "      <td>...</td>\n",
       "      <td>...</td>\n",
       "      <td>...</td>\n",
       "      <td>...</td>\n",
       "    </tr>\n",
       "    <tr>\n",
       "      <th>977</th>\n",
       "      <td>2004-02-19 05:22:39</td>\n",
       "      <td>0.445929</td>\n",
       "      <td>4.624054</td>\n",
       "      <td>5</td>\n",
       "      <td>0.530969</td>\n",
       "      <td>12.795843</td>\n",
       "    </tr>\n",
       "    <tr>\n",
       "      <th>978</th>\n",
       "      <td>2004-02-19 05:32:39</td>\n",
       "      <td>0.386944</td>\n",
       "      <td>3.469297</td>\n",
       "      <td>5</td>\n",
       "      <td>0.445929</td>\n",
       "      <td>4.624054</td>\n",
       "    </tr>\n",
       "    <tr>\n",
       "      <th>979</th>\n",
       "      <td>2004-02-19 05:42:39</td>\n",
       "      <td>0.725019</td>\n",
       "      <td>15.576977</td>\n",
       "      <td>5</td>\n",
       "      <td>0.386944</td>\n",
       "      <td>3.469297</td>\n",
       "    </tr>\n",
       "    <tr>\n",
       "      <th>980</th>\n",
       "      <td>2004-02-19 05:52:39</td>\n",
       "      <td>0.462021</td>\n",
       "      <td>6.759714</td>\n",
       "      <td>5</td>\n",
       "      <td>0.725019</td>\n",
       "      <td>15.576977</td>\n",
       "    </tr>\n",
       "    <tr>\n",
       "      <th>981</th>\n",
       "      <td>2004-02-19 06:02:39</td>\n",
       "      <td>0.483847</td>\n",
       "      <td>7.891370</td>\n",
       "      <td>5</td>\n",
       "      <td>0.462021</td>\n",
       "      <td>6.759714</td>\n",
       "    </tr>\n",
       "  </tbody>\n",
       "</table>\n",
       "<p>981 rows × 6 columns</p>\n",
       "</div>"
      ],
      "text/plain": [
       "              date_time  Bearing1_RMS  Bearing1_Kurt  Class  Bearing1_RMS_Prev  Bearing1_Kurt_Prev\n",
       "1   2004-02-12 10:42:39      0.075382       3.648479      2           0.074180            3.628672\n",
       "2   2004-02-12 10:52:39      0.076228       3.513839      1           0.075382            3.648479\n",
       "3   2004-02-12 11:02:39      0.078726       4.157776      2           0.076228            3.513839\n",
       "4   2004-02-12 11:12:39      0.078475       3.603207      2           0.078726            4.157776\n",
       "5   2004-02-12 11:22:39      0.078311       3.456488      2           0.078475            3.603207\n",
       "..                  ...           ...            ...    ...                ...                 ...\n",
       "977 2004-02-19 05:22:39      0.445929       4.624054      5           0.530969           12.795843\n",
       "978 2004-02-19 05:32:39      0.386944       3.469297      5           0.445929            4.624054\n",
       "979 2004-02-19 05:42:39      0.725019      15.576977      5           0.386944            3.469297\n",
       "980 2004-02-19 05:52:39      0.462021       6.759714      5           0.725019           15.576977\n",
       "981 2004-02-19 06:02:39      0.483847       7.891370      5           0.462021            6.759714\n",
       "\n",
       "[981 rows x 6 columns]"
      ]
     },
     "execution_count": 16,
     "metadata": {},
     "output_type": "execute_result"
    }
   ],
   "source": [
    "rul_pred_df"
   ]
  },
  {
   "cell_type": "markdown",
   "metadata": {},
   "source": [
    "The above dataframe is used to predict the RUL class. Now the Remaining Useful Life Estimation is a classification problem, with each class representing a Certain range of failing function (RUL)"
   ]
  },
  {
   "cell_type": "code",
   "execution_count": 17,
   "metadata": {},
   "outputs": [
    {
     "data": {
      "text/plain": [
       "<AxesSubplot:xlabel='date_time', ylabel='Bearing1_RMS'>"
      ]
     },
     "execution_count": 17,
     "metadata": {},
     "output_type": "execute_result"
    },
    {
     "data": {
      "image/png": "[encoded data removed]",
      "text/plain": [
       "<Figure size 1080x720 with 1 Axes>"
      ]
     },
     "metadata": {
      "needs_background": "light"
     },
     "output_type": "display_data"
    }
   ],
   "source": [
    "# Save dataframe as CSV file\n",
    "# rul_pred_df.to_csv(\"RUL_Dataset.csv\")\n",
    "plt.figure(figsize=(15,10))\n",
    "sns.scatterplot(x=rul_pred_df.date_time,y=np.log(rul_pred_df.Bearing1_RMS),hue=rul_pred_df.Class,palette='deep')"
   ]
  },
  {
   "cell_type": "markdown",
   "metadata": {},
   "source": [
    "## Frequency of different RUL Classes "
   ]
  },
  {
   "cell_type": "code",
   "execution_count": 18,
   "metadata": {},
   "outputs": [
    {
     "data": {
      "text/plain": [
       "1    328\n",
       "5    222\n",
       "2    202\n",
       "4    194\n",
       "3     35\n",
       "Name: Class, dtype: int64"
      ]
     },
     "execution_count": 18,
     "metadata": {},
     "output_type": "execute_result"
    }
   ],
   "source": [
    "rul_pred_df.Class.value_counts()"
   ]
  },
  {
   "cell_type": "code",
   "execution_count": 19,
   "metadata": {},
   "outputs": [
    {
     "data": {
      "image/png": "[encoded data removed]",
      "text/plain": [
       "<Figure size 432x288 with 1 Axes>"
      ]
     },
     "metadata": {
      "needs_background": "light"
     },
     "output_type": "display_data"
    }
   ],
   "source": [
    "plt.hist(rul_pred_df.Class);"
   ]
  },
  {
   "cell_type": "code",
   "execution_count": 20,
   "metadata": {},
   "outputs": [],
   "source": [
    "# Train test split\n",
    "from sklearn.model_selection import train_test_split\n",
    "X = rul_pred_df.drop(['date_time','Class'],axis=1)\n",
    "y = rul_pred_df['Class']\n",
    "X_train, X_test, y_train, y_test = train_test_split(X, y, test_size=0.3, random_state=0)"
   ]
  },
  {
   "cell_type": "code",
   "execution_count": 21,
   "metadata": {},
   "outputs": [
    {
     "data": {
      "text/plain": [
       "1    225\n",
       "5    153\n",
       "2    143\n",
       "4    137\n",
       "3     28\n",
       "Name: Class, dtype: int64"
      ]
     },
     "execution_count": 21,
     "metadata": {},
     "output_type": "execute_result"
    }
   ],
   "source": [
    "y_train.value_counts()"
   ]
  },
  {
   "cell_type": "code",
   "execution_count": 22,
   "metadata": {},
   "outputs": [
    {
     "data": {
      "text/plain": [
       "1    103\n",
       "5     69\n",
       "2     59\n",
       "4     57\n",
       "3      7\n",
       "Name: Class, dtype: int64"
      ]
     },
     "execution_count": 22,
     "metadata": {},
     "output_type": "execute_result"
    }
   ],
   "source": [
    "y_test.value_counts()"
   ]
  },
  {
   "cell_type": "markdown",
   "metadata": {},
   "source": [
    "## k-NN Neighbors"
   ]
  },
  {
   "cell_type": "code",
   "execution_count": 23,
   "metadata": {},
   "outputs": [
    {
     "data": {
      "text/plain": [
       "KNeighborsClassifier(n_neighbors=4)"
      ]
     },
     "execution_count": 23,
     "metadata": {},
     "output_type": "execute_result"
    }
   ],
   "source": [
    "from sklearn.pipeline import make_pipeline\n",
    "from sklearn.preprocessing import StandardScaler\n",
    "from sklearn.model_selection import GridSearchCV\n",
    "from sklearn.neighbors import KNeighborsClassifier\n",
    "from sklearn.metrics import classification_report\n",
    "scaler = StandardScaler()\n",
    "X_train_scaled = scaler.fit_transform(X_train)\n",
    "X_test_scaled = scaler.transform(X_test)\n",
    "clf_knn = KNeighborsClassifier()\n",
    "params = {\"n_neighbors\":[2,3,4,5,6,7]}\n",
    "gcv_knn = GridSearchCV(clf_knn,params,cv=10)\n",
    "gcv_knn.fit(X_train,y_train)\n",
    "gcv_knn.best_estimator_"
   ]
  },
  {
   "cell_type": "code",
   "execution_count": 24,
   "metadata": {},
   "outputs": [
    {
     "name": "stdout",
     "output_type": "stream",
     "text": [
      "              precision    recall  f1-score   support\n",
      "\n",
      "           1       0.59      0.80      0.67       103\n",
      "           2       0.19      0.10      0.13        59\n",
      "           3       0.33      0.14      0.20         7\n",
      "           4       0.79      0.77      0.78        57\n",
      "           5       0.95      0.88      0.92        69\n",
      "\n",
      "    accuracy                           0.66       295\n",
      "   macro avg       0.57      0.54      0.54       295\n",
      "weighted avg       0.62      0.66      0.63       295\n",
      "\n"
     ]
    }
   ],
   "source": [
    "clf_knn_1 = KNeighborsClassifier(n_neighbors=4)\n",
    "clf_knn_1.fit(X_train,y_train)\n",
    "y_pred_knn = clf_knn_1.predict(X_test)\n",
    "print(classification_report(y_test,y_pred_knn))"
   ]
  },
  {
   "cell_type": "markdown",
   "metadata": {},
   "source": [
    "## Decision Tree"
   ]
  },
  {
   "cell_type": "code",
   "execution_count": 25,
   "metadata": {},
   "outputs": [
    {
     "data": {
      "text/plain": [
       "DecisionTreeClassifier(max_depth=3, random_state=0)"
      ]
     },
     "execution_count": 25,
     "metadata": {},
     "output_type": "execute_result"
    }
   ],
   "source": [
    "from sklearn.tree import DecisionTreeClassifier\n",
    "from sklearn.model_selection import GridSearchCV\n",
    "from sklearn.metrics import classification_report\n",
    "clf_dt = DecisionTreeClassifier(random_state=0)\n",
    "params = {\"max_depth\":[2,3,4,5,10]}\n",
    "gcv_dt = GridSearchCV(clf_dt,params,cv=10)\n",
    "gcv_dt.fit(X_train,y_train)\n",
    "gcv_dt.best_estimator_"
   ]
  },
  {
   "cell_type": "code",
   "execution_count": 26,
   "metadata": {},
   "outputs": [
    {
     "name": "stdout",
     "output_type": "stream",
     "text": [
      "              precision    recall  f1-score   support\n",
      "\n",
      "           1       1.00      1.00      1.00       103\n",
      "           2       1.00      1.00      1.00        59\n",
      "           3       1.00      1.00      1.00         7\n",
      "           4       1.00      1.00      1.00        57\n",
      "           5       1.00      1.00      1.00        69\n",
      "\n",
      "    accuracy                           1.00       295\n",
      "   macro avg       1.00      1.00      1.00       295\n",
      "weighted avg       1.00      1.00      1.00       295\n",
      "\n"
     ]
    }
   ],
   "source": [
    "clf_dt_1 = DecisionTreeClassifier(max_depth=3,random_state=0)\n",
    "clf_dt_1.fit(X_train,y_train)\n",
    "y_pred_dt = clf_dt_1.predict(X_test)\n",
    "print(classification_report(y_test,y_pred_dt))"
   ]
  },
  {
   "cell_type": "markdown",
   "metadata": {},
   "source": [
    "### Decision Tree Classifier Performs well"
   ]
  }
 ],
 "metadata": {
  "kernelspec": {
   "display_name": "Python 3",
   "language": "python",
   "name": "python3"
  },
  "language_info": {
   "codemirror_mode": {
    "name": "ipython",
    "version": 3
   },
   "file_extension": ".py",
   "mimetype": "text/x-python",
   "name": "python",
   "nbconvert_exporter": "python",
   "pygments_lexer": "ipython3",
   "version": "3.8.3"
  }
 },
 "nbformat": 4,
 "nbformat_minor": 4
}
